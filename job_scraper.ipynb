{
 "cells": [
  {
   "cell_type": "markdown",
   "metadata": {},
   "source": [
    "# A Simple Scraper which accesses Job Postings and checks for specific strings"
   ]
  },
  {
   "cell_type": "code",
   "execution_count": 1,
   "metadata": {},
   "outputs": [],
   "source": [
    "from bs4 import BeautifulSoup\n",
    "import urllib.request as ur\n",
    "import re\n",
    "import sys"
   ]
  },
  {
   "cell_type": "code",
   "execution_count": 5,
   "metadata": {},
   "outputs": [
    {
     "data": {
      "text/plain": [
       "False"
      ]
     },
     "execution_count": 5,
     "metadata": {},
     "output_type": "execute_result"
    }
   ],
   "source": [
    "red_flags = [\"senior\", \"contract\", \"staff\"] #List of words to avoid in job title\n",
    "#required = [\"software\"] #Can also check for required words\n",
    "\n",
    "def qualifies(title):\n",
    "    title = title.lower()\n",
    "    #Define a function to check if a job title is worth checking out  \n",
    "    for word in red_flags:\n",
    "        if word in title: return False\n",
    "    return True\n",
    "\n",
    "#test:\n",
    "qualifies(\"Senior Software Engineer\")"
   ]
  },
  {
   "cell_type": "code",
   "execution_count": 15,
   "metadata": {},
   "outputs": [
    {
     "name": "stdout",
     "output_type": "stream",
     "text": [
      "<_sre.SRE_Match object; span=(0, 8), match='2+ Years'> \n",
      " None\n"
     ]
    }
   ],
   "source": [
    "# Now define the Regex, \n",
    "# 1. Should not have the phrase 1+ years, 1-2 Years, so on..\n",
    "p1 = re.compile('[2-9]\\s*\\+?-?\\s*[1-9]?\\s*[yY]e?a?[rR][Ss]?')\n",
    "# 2. Should not have mention of \"Citizenship\", \"Citizens\", so on..\n",
    "p2 = re.compile('[Cc]itizens?(ship)?')\n",
    "\n",
    "t1 = p1.search(\"2+ Years of experiencce\")\n",
    "t2 = p1.search(\"0-1 Year\")\n",
    "print (t1, \"\\n\",t2)"
   ]
  },
  {
   "cell_type": "code",
   "execution_count": 23,
   "metadata": {},
   "outputs": [
    {
     "data": {
      "text/plain": [
       "'Ready.'"
      ]
     },
     "execution_count": 23,
     "metadata": {},
     "output_type": "execute_result"
    }
   ],
   "source": [
    "#The first page with search results\n",
    "url_base = \"base url here.. \"\n",
    "pgno = 0\n",
    "try:\n",
    "        response = ur.urlopen(url_base+str(pgno))\n",
    "        html_doc = response.read()\n",
    "except:\n",
    "        print(\"URL not accesible\")\n",
    "        exit();\n",
    "soup = BeautifulSoup(html_doc, 'html.parser')\n",
    "\"Ready.\""
   ]
  },
  {
   "cell_type": "code",
   "execution_count": 30,
   "metadata": {},
   "outputs": [
    {
     "name": "stdout",
     "output_type": "stream",
     "text": [
      "370\n"
     ]
    }
   ],
   "source": [
    "try:\n",
    "    total_results = soup.find(id=\"searchCount\").get_text()\n",
    "    last_page = int(int(total_results[total_results.index(\"of\")+2: total_results.index(\"jobs\")].strip()) / 10) * 10\n",
    "    print(last_page)\n",
    "except:\n",
    "    print (\"No jobs found\")"
   ]
  },
  {
   "cell_type": "code",
   "execution_count": 34,
   "metadata": {},
   "outputs": [
    {
     "name": "stdout",
     "output_type": "stream",
     "text": [
      "Software Engineer, University New Graduate , Houzz : http://www.indeed.com/rc/clk?jk=b13f83b8083235b1&fccid=cd808c272e6d956a \n",
      "\n",
      "Software Engineer , LiveAction : http://www.indeed.com/rc/clk?jk=02ecac2491ae61cf&fccid=ace8b9c0b5f18b27 \n",
      "\n",
      "Java Developer (Full Time) , Ezen computer services : http://www.indeed.com/company/Ezen-computer-services-INC/jobs/Java-Developer-c84007a1deb5b12d?fccid=8db39aaae3efa27e \n",
      "\n",
      "Software Engineer, Cloud Platform - UI , Toyota Research Institute : http://www.indeed.com/rc/clk?jk=d16fb14301cdff9f&fccid=e490ccf806951166 \n",
      "\n",
      "Dev-Ops / Java Software Engineer , Paypal : http://www.indeed.com/rc/clk?jk=31fe013ea2b5fe01&fccid=978d9fd9799d55a8 \n",
      "\n",
      "Jr. Web Application Developer (AMRD2017) , Fortinet : http://www.indeed.com/rc/clk?jk=eb7835743224b1db&fccid=28d99c55a9ebe7b6 \n",
      "\n"
     ]
    }
   ],
   "source": [
    "jobs_per_page = 10\n",
    "goodlinks = []\n",
    "for pgno in range(0,last_page,jobs_per_page):\n",
    "    if pgno > 0:\n",
    "        try:\n",
    "            response = ur.urlopen(url_base+str(pgno))\n",
    "            html_doc = response.read()\n",
    "        except:\n",
    "            break;\n",
    "        soup = BeautifulSoup(html_doc, 'html.parser')\n",
    "    for job in soup.find_all(class_='result'):\n",
    "        link = job.find(class_=\"turnstileLink\")\n",
    "        try:\n",
    "            jt = link.get('title')\n",
    "        except:\n",
    "            jt = \"\"\n",
    "        try:\n",
    "            comp = job.find(class_='company').get_text().strip()\n",
    "        except:\n",
    "            comp = \"\"\n",
    "\n",
    "        if(qualifies(jt.lower())):\n",
    "            toVisit = \"http://www.indeed.com\"+link.get('href')\n",
    "            try:\n",
    "                html_doc = ur.urlopen(toVisit).read().decode('utf-8')\n",
    "            except:\n",
    "                continue;\n",
    "            m = p1.search(html_doc)\n",
    "            n = p2.search(html_doc)\n",
    "            if not m and not n:\n",
    "                print(jt,\",\",comp,\":\",toVisit,\"\\n\")\n",
    "                goodlinks.append(toVisit)"
   ]
  },
  {
   "cell_type": "markdown",
   "metadata": {},
   "source": [
    "And that's all, very easy to customize for any kind of task."
   ]
  }
 ],
 "metadata": {
  "kernelspec": {
   "display_name": "Python 3",
   "language": "python",
   "name": "python3"
  },
  "language_info": {
   "codemirror_mode": {
    "name": "ipython",
    "version": 3
   },
   "file_extension": ".py",
   "mimetype": "text/x-python",
   "name": "python",
   "nbconvert_exporter": "python",
   "pygments_lexer": "ipython3",
   "version": "3.6.3"
  }
 },
 "nbformat": 4,
 "nbformat_minor": 2
}
